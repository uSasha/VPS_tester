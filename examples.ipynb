{
 "cells": [
  {
   "cell_type": "code",
   "execution_count": null,
   "metadata": {},
   "outputs": [],
   "source": [
    "import pickle\n",
    "\n",
    "import vps_tester\n",
    "from hetznercloud import constants"
   ]
  },
  {
   "cell_type": "markdown",
   "metadata": {},
   "source": [
    "### Save keys"
   ]
  },
  {
   "cell_type": "code",
   "execution_count": null,
   "metadata": {},
   "outputs": [],
   "source": [
    "hetzner_api_key = ''\n",
    "ssh_file_name = ''\n",
    "\n",
    "with open('secret.pkl', 'rb') as f:\n",
    "    pickle.dump({'hetzner_api_key': hetzner_api_key, 'ssh_file_name': ssh_file_name}, f)"
   ]
  },
  {
   "cell_type": "markdown",
   "metadata": {},
   "source": [
    "### Load keys"
   ]
  },
  {
   "cell_type": "code",
   "execution_count": null,
   "metadata": {},
   "outputs": [],
   "source": [
    "with open('secret.pkl', 'rb') as f:\n",
    "    secret = pickle.load(f)\n",
    "    \n",
    "ssh_file_name = secret['ssh_file_name']\n",
    "hetzner_api_key = secret['hetzner_api_key']"
   ]
  },
  {
   "cell_type": "markdown",
   "metadata": {},
   "source": [
    "### Test single instance performance"
   ]
  },
  {
   "cell_type": "code",
   "execution_count": null,
   "metadata": {},
   "outputs": [],
   "source": [
    "h = vps_tester.HetznerTester(hetzner_api_key, ssh_file_name)\n",
    "h.test_vps(constants.DATACENTER_HELSINKI_1, constants.SERVER_TYPE_1CPU_2GB)"
   ]
  },
  {
   "cell_type": "markdown",
   "metadata": {},
   "source": [
    "### Compare different instance types"
   ]
  },
  {
   "cell_type": "code",
   "execution_count": null,
   "metadata": {},
   "outputs": [],
   "source": [
    "for server_type in [constants.SERVER_TYPE_1CPU_2GB,\n",
    "                   constants.SERVER_TYPE_2CPU_8GB,\n",
    "                   constants.SERVER_TYPE_2CPU_8GB_DVCPU,\n",
    "                  ]:\n",
    "    result, _ = h.test_vps(constants.DATACENTER_HELSINKI_1, server_type)\n",
    "\n",
    "    print(f'server type: {server_type}, result: {result}')"
   ]
  },
  {
   "cell_type": "markdown",
   "metadata": {},
   "source": [
    "### Copmare different datacenters"
   ]
  },
  {
   "cell_type": "code",
   "execution_count": null,
   "metadata": {},
   "outputs": [],
   "source": [
    "for datacenter in [constants.DATACENTER_FALKENSTEIN_1,\n",
    "                   constants.DATACENTER_HELSINKI_1,\n",
    "                   constants.DATACENTER_NUREMBERG_1,\n",
    "                  ]:\n",
    "    result, _ = h.test_vps(datacenter, constants.SERVER_TYPE_1CPU_2GB)\n",
    "\n",
    "    print(f'datacenter: {datacenter}, result: {result}')"
   ]
  },
  {
   "cell_type": "markdown",
   "metadata": {},
   "source": [
    "### Find best instance in any datacenter, shutdown others"
   ]
  },
  {
   "cell_type": "code",
   "execution_count": null,
   "metadata": {},
   "outputs": [],
   "source": [
    "servers = []\n",
    "results = []\n",
    "\n",
    "for datacenter in [constants.DATACENTER_FALKENSTEIN_1,\n",
    "                   constants.DATACENTER_HELSINKI_1,\n",
    "                   constants.DATACENTER_NUREMBERG_1,\n",
    "                  ]:\n",
    "    result, server = h.test_vps(datacenter, \n",
    "                                constants.SERVER_TYPE_1CPU_2GB,\n",
    "                                kill_instantly=False)\n",
    "    \n",
    "    results.append(int(result))\n",
    "    servers.append(server)\n",
    "    print(f'datacenter: {datacenter}, result: {result}')\n",
    "    \n",
    "    best_server = servers[results.index[min[results]]]\n",
    "    for server in [s in servers if s is not best_server]:\n",
    "        h.delete_server(server)\n",
    "\n",
    "print(f'best one: {best_server.public_net_ipv4}')"
   ]
  }
 ],
 "metadata": {
  "kernelspec": {
   "display_name": "Python 3",
   "language": "python",
   "name": "python3"
  },
  "language_info": {
   "codemirror_mode": {
    "name": "ipython",
    "version": 3
   },
   "file_extension": ".py",
   "mimetype": "text/x-python",
   "name": "python",
   "nbconvert_exporter": "python",
   "pygments_lexer": "ipython3",
   "version": "3.6.6"
  }
 },
 "nbformat": 4,
 "nbformat_minor": 2
}
